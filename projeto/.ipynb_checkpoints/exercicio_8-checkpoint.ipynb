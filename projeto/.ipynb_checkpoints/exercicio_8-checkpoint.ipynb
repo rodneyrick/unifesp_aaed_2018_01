{
 "cells": [
  {
   "cell_type": "markdown",
   "metadata": {},
   "source": [
    "http://www.algoritmosempython.com.br/capitulos/estruturas-dados/arvores"
   ]
  },
  {
   "cell_type": "code",
   "execution_count": 158,
   "metadata": {},
   "outputs": [],
   "source": [
    "class NodoArvore:\n",
    "    def __init__(self, chave=None, esquerda=None, direita=None):\n",
    "        self.chave = chave\n",
    "        self.esquerda = esquerda\n",
    "        self.direita = direita\n",
    "\n",
    "    def __repr__(self):\n",
    "        return '%s <- %s -> %s' % (self.esquerda and self.esquerda.chave,  \n",
    "                                    self.chave, \n",
    "                                    self.direita and self.direita.chave)"
   ]
  },
  {
   "cell_type": "code",
   "execution_count": 161,
   "metadata": {},
   "outputs": [
    {
     "name": "stdout",
     "output_type": "stream",
     "text": [
      "Árvore:  5 <- 3 -> None\n"
     ]
    }
   ],
   "source": [
    "raiz = NodoArvore(3)\n",
    "raiz.esquerda = NodoArvore(5)\n",
    "# raiz.direita  = NodoArvore(1)\n",
    "print(\"Árvore: \", raiz)"
   ]
  },
  {
   "cell_type": "code",
   "execution_count": 159,
   "metadata": {},
   "outputs": [],
   "source": [
    "def em_ordem(raiz): \n",
    "    if not raiz:\n",
    "        return\n",
    " \n",
    "    # Visita filho da esquerda.\n",
    "    em_ordem(raiz.esquerda)\n",
    "\n",
    "    # Visita nodo corrente.\n",
    "    print(raiz.chave),\n",
    " \n",
    "    # Visita filho da direita.\n",
    "    em_ordem(raiz.direita)"
   ]
  },
  {
   "cell_type": "code",
   "execution_count": 4,
   "metadata": {},
   "outputs": [],
   "source": [
    "raiz = NodoArvore(40)\n",
    "\n",
    "raiz.esquerda = NodoArvore(20)\n",
    "raiz.direita  = NodoArvore(60)\n",
    "\n",
    "raiz.direita.esquerda  = NodoArvore(50)\n",
    "raiz.direita.direita   = NodoArvore(70)\n",
    "raiz.esquerda.esquerda = NodoArvore(10)\n",
    "raiz.esquerda.direita  = NodoArvore(30)"
   ]
  },
  {
   "cell_type": "code",
   "execution_count": 160,
   "metadata": {},
   "outputs": [
    {
     "name": "stdout",
     "output_type": "stream",
     "text": [
      "10\n",
      "20\n",
      "30\n",
      "40\n",
      "50\n",
      "60\n",
      "70\n"
     ]
    }
   ],
   "source": [
    "em_ordem(raiz)"
   ]
  },
  {
   "cell_type": "code",
   "execution_count": 6,
   "metadata": {},
   "outputs": [],
   "source": [
    "def insere(raiz, nodo):\n",
    "    \"\"\"Insere um nodo em uma árvore binária de pesquisa.\"\"\"\n",
    "    # Nodo deve ser inserido na raiz.\n",
    "    if raiz is None:\n",
    "        raiz = nodo\n",
    "\n",
    "    # Nodo deve ser inserido na subárvore direita.\n",
    "    elif raiz.chave < nodo.chave:\n",
    "        if raiz.direita is None:\n",
    "            raiz.direita = nodo\n",
    "        else:\n",
    "            insere(raiz.direita, nodo)\n",
    "\n",
    "    # Nodo deve ser inserido na subárvore esquerda.\n",
    "    else:\n",
    "        if raiz.esquerda is None:\n",
    "            raiz.esquerda = nodo\n",
    "        else:\n",
    "            insere(raiz.esquerda, nodo)"
   ]
  },
  {
   "cell_type": "code",
   "execution_count": 7,
   "metadata": {},
   "outputs": [
    {
     "name": "stdout",
     "output_type": "stream",
     "text": [
      "10\n",
      "20\n",
      "30\n",
      "40\n",
      "50\n",
      "60\n",
      "70\n"
     ]
    }
   ],
   "source": [
    "# Cria uma árvore binária de pesquisa.        \n",
    "raiz = NodoArvore(40)\n",
    "for chave in [20, 60, 50, 70, 10, 30]:\n",
    "    nodo = NodoArvore(chave)\n",
    "    insere(raiz, nodo)\n",
    "# Imprime o caminhamento em ordem da árvore.\n",
    "em_ordem(raiz)"
   ]
  },
  {
   "cell_type": "code",
   "execution_count": 8,
   "metadata": {},
   "outputs": [],
   "source": [
    "def busca(raiz, chave):\n",
    "    \"\"\"Procura por uma chave em uma árvore binária de pesquisa.\"\"\"\n",
    "    # Trata o caso em que a chave procurada não está presente.\n",
    "    if raiz is None:\n",
    "        return None\n",
    "    \n",
    "    # A chave procurada está na raiz da árvore.\n",
    "    if raiz.chave == chave:\n",
    "        return raiz\n",
    " \n",
    "    # A chave procurada é maior que a da raiz.\n",
    "    if raiz.chave < chave:\n",
    "        return busca(raiz.direita, chave)\n",
    "   \n",
    "    # A chave procurada é menor que a da raiz.\n",
    "    return busca(raiz.esquerda, chave)"
   ]
  },
  {
   "cell_type": "code",
   "execution_count": 9,
   "metadata": {},
   "outputs": [
    {
     "name": "stdout",
     "output_type": "stream",
     "text": [
      "Busca pela chave -50: Falha!\n",
      "Busca pela chave 10: Sucesso!\n",
      "Busca pela chave 30: Sucesso!\n",
      "Busca pela chave 70: Sucesso!\n",
      "Busca pela chave 100: Falha!\n"
     ]
    }
   ],
   "source": [
    "# Cria uma árvore binária de pesquisa.        \n",
    "raiz = NodoArvore(40)\n",
    "for chave in [20, 60, 50, 70, 10, 30]:\n",
    "    nodo = NodoArvore(chave)\n",
    "    insere(raiz, nodo)\n",
    "\n",
    "# Procura por valores na árvore.\n",
    "for chave in [-50, 10, 30, 70, 100]:\n",
    "    resultado = busca(raiz, chave)\n",
    "    if resultado:\n",
    "        print(\"Busca pela chave {}: Sucesso!\".format(chave))\n",
    "    else:\n",
    "        print(\"Busca pela chave {}: Falha!\".format(chave))"
   ]
  },
  {
   "cell_type": "code",
   "execution_count": 127,
   "metadata": {},
   "outputs": [],
   "source": [
    "def em_ordem_iterativo(raiz):\n",
    "    s = []\n",
    "    done = 0\n",
    "    while(not done):\n",
    "        if raiz is not None:\n",
    "            s.append(raiz)\n",
    "            raiz = raiz.esquerda \n",
    "        else:\n",
    "            if(len(s) > 0):\n",
    "                raiz = s.pop()\n",
    "                print (raiz.chave),\n",
    "                raiz = raiz.direita \n",
    "            else:\n",
    "                done = 1"
   ]
  },
  {
   "cell_type": "code",
   "execution_count": 154,
   "metadata": {},
   "outputs": [],
   "source": [
    "raiz = NodoArvore(40)\n",
    "for chave in [20, 60, 50, 70, 10, 30]:\n",
    "    nodo = NodoArvore(chave)\n",
    "    insere(raiz, nodo)"
   ]
  },
  {
   "cell_type": "code",
   "execution_count": 128,
   "metadata": {},
   "outputs": [
    {
     "name": "stdout",
     "output_type": "stream",
     "text": [
      "10\n",
      "20\n",
      "30\n",
      "40\n",
      "50\n",
      "60\n",
      "70\n"
     ]
    }
   ],
   "source": [
    "em_ordem_iterativo(raiz)"
   ]
  },
  {
   "cell_type": "code",
   "execution_count": 109,
   "metadata": {},
   "outputs": [
    {
     "name": "stdout",
     "output_type": "stream",
     "text": [
      "10\n",
      "20\n",
      "30\n",
      "40\n",
      "50\n",
      "60\n",
      "70\n"
     ]
    }
   ],
   "source": [
    "em_ordem(raiz)"
   ]
  },
  {
   "cell_type": "code",
   "execution_count": 156,
   "metadata": {},
   "outputs": [],
   "source": [
    "def imprime_folhas(raiz):\n",
    "    if not raiz:\n",
    "        return\n",
    " \n",
    "    # Visita filho da esquerda.\n",
    "    imprime_folhas(raiz.esquerda)\n",
    "\n",
    "    if raiz.esquerda is None and raiz.direita is None:\n",
    "        print(raiz),\n",
    " \n",
    "    # Visita filho da direita.\n",
    "    imprime_folhas(raiz.direita)"
   ]
  },
  {
   "cell_type": "code",
   "execution_count": 157,
   "metadata": {},
   "outputs": [
    {
     "name": "stdout",
     "output_type": "stream",
     "text": [
      "None <- 10 -> None\n",
      "None <- 30 -> None\n",
      "None <- 50 -> None\n",
      "None <- 70 -> None\n"
     ]
    }
   ],
   "source": [
    "imprime_folhas(raiz)"
   ]
  },
  {
   "cell_type": "code",
   "execution_count": 206,
   "metadata": {},
   "outputs": [],
   "source": [
    "def busca_min(raiz):\n",
    "    if raiz.esquerda:\n",
    "        return busca_min(raiz.esquerda)\n",
    "    else:\n",
    "        return [raiz.direita, raiz]"
   ]
  },
  {
   "cell_type": "code",
   "execution_count": 210,
   "metadata": {},
   "outputs": [],
   "source": [
    "def delete(raiz, chave):\n",
    "    print(raiz)\n",
    "    if raiz.chave == chave:\n",
    "        if raiz.direita and raiz.esquerda: \n",
    "            [pai, prox] = busca_min(raiz)\n",
    "            prox.direita = raiz.direita.direita\n",
    "            prox.esquerda = raiz.esquerda.esquerda\n",
    "            return prox\n",
    "        else:\n",
    "            if raiz.esquerda:\n",
    "                return raiz.esquerda\n",
    "            else:\n",
    "                return raiz.direita\n",
    "    else:\n",
    "        if raiz.chave > chave:\n",
    "            if raiz.esquerda:\n",
    "                raiz.esquerda = delete(raiz.esquerda, chave)\n",
    "        else:\n",
    "            if raiz.direita:\n",
    "                raiz.direita = delete(raiz.direita, chave)\n",
    "    return raiz"
   ]
  },
  {
   "cell_type": "code",
   "execution_count": null,
   "metadata": {},
   "outputs": [],
   "source": []
  },
  {
   "cell_type": "code",
   "execution_count": 207,
   "metadata": {},
   "outputs": [
    {
     "name": "stdout",
     "output_type": "stream",
     "text": [
      "10\n",
      "20\n",
      "30\n",
      "40\n",
      "50\n",
      "60\n",
      "70\n"
     ]
    }
   ],
   "source": [
    "raiz = NodoArvore(40)\n",
    "for chave in [20, 60, 50, 70, 10, 30]:\n",
    "    nodo = NodoArvore(chave)\n",
    "    insere(raiz, nodo)\n",
    "em_ordem(raiz)"
   ]
  },
  {
   "cell_type": "code",
   "execution_count": 211,
   "metadata": {},
   "outputs": [
    {
     "name": "stdout",
     "output_type": "stream",
     "text": [
      "20 <- 40 -> 60\n",
      "10 <- 20 -> 30\n"
     ]
    },
    {
     "data": {
      "text/plain": [
       "10 <- 40 -> 60"
      ]
     },
     "execution_count": 211,
     "metadata": {},
     "output_type": "execute_result"
    }
   ],
   "source": [
    "delete(raiz, 20)"
   ]
  },
  {
   "cell_type": "code",
   "execution_count": 212,
   "metadata": {},
   "outputs": [
    {
     "name": "stdout",
     "output_type": "stream",
     "text": [
      "10\n",
      "40\n",
      "50\n",
      "60\n",
      "70\n"
     ]
    }
   ],
   "source": [
    "em_ordem(raiz)"
   ]
  },
  {
   "cell_type": "code",
   "execution_count": 213,
   "metadata": {},
   "outputs": [],
   "source": [
    "class TreeNode:\n",
    "    def __init__(self, value):\n",
    "        self.left = None;\n",
    "        self.right = None;\n",
    "        self.data = value;\n",
    "\n",
    "class Tree:\n",
    "    def __init__(self):\n",
    "        self.root = None;\n",
    "\n",
    "    def addNode(self, node, value):\n",
    "        if(node==None):\n",
    "            self.root = TreeNode(value);\n",
    "        else:\n",
    "            if(value<node.data):\n",
    "                if(node.left==None):\n",
    "                    node.left = TreeNode(value)\n",
    "                else:\n",
    "                    self.addNode(node.left, value);\n",
    "            else:\n",
    "                if(node.right==None):\n",
    "                    node.right = TreeNode(value)\n",
    "                else:\n",
    "                    self.addNode(node.right, value);"
   ]
  },
  {
   "cell_type": "code",
   "execution_count": 214,
   "metadata": {},
   "outputs": [
    {
     "name": "stdout",
     "output_type": "stream",
     "text": [
      "30\n",
      "100\n",
      "200\n",
      "300\n"
     ]
    }
   ],
   "source": [
    "main()"
   ]
  },
  {
   "cell_type": "code",
   "execution_count": 219,
   "metadata": {},
   "outputs": [],
   "source": [
    "import random\n",
    "\n",
    "class TreeNode:\n",
    "    def __init__(self, key):\n",
    "        self.key = key\n",
    "        self.left = None\n",
    "        self.right = None\n",
    "        self.p = None\n",
    "\n",
    "class BinaryTree:\n",
    "    def __init__(self):\n",
    "        self.root = None\n",
    "\n",
    "    def length(self):\n",
    "        return self.size\n",
    "\n",
    "    def inorder(self, node):\n",
    "        if node is None:\n",
    "            return\n",
    "        else:\n",
    "            self.inorder(node.left)\n",
    "            print (node.key),\n",
    "            self.inorder(node.right)\n",
    "\n",
    "    def search(self, k):\n",
    "        node = self.root\n",
    "        while node != None:\n",
    "            if node.key == k:\n",
    "                return node\n",
    "            if node.key > k:\n",
    "                node = node.left\n",
    "            else:\n",
    "                node = node.right\n",
    "        return None\n",
    "\n",
    "    def minimum(self, node):\n",
    "        x = None\n",
    "        while node.left != None:\n",
    "            x = node.left\n",
    "            node = node.left\n",
    "        return x\n",
    "\n",
    "    def maximum(self, node):\n",
    "        x = None\n",
    "        while node.right != None:\n",
    "            x = node.right\n",
    "            node = node.right\n",
    "        return x\n",
    "\n",
    "    def successor(self, node):\n",
    "        parent = None\n",
    "        if node.right != None:\n",
    "            return self.minimum(node.right)\n",
    "        parent = node.p\n",
    "        while parent != None and node == parent.right:\n",
    "            node = parent\n",
    "            parent = parent.p\n",
    "        return parent\n",
    "\n",
    "    def predecessor(self, node):\n",
    "        parent = None\n",
    "        if node.left != None:\n",
    "            return self.maximum(node.left)\n",
    "        parent = node.p\n",
    "        while parent != None and node == parent.left:\n",
    "            node = parent\n",
    "            parent = parent.p\n",
    "        return parent\n",
    "\n",
    "    def insert(self, k):\n",
    "        t = TreeNode(k)\n",
    "        parent = None\n",
    "        node = self.root\n",
    "        while node != None:\n",
    "            parent = node\n",
    "            if node.key > t.key:\n",
    "                node = node.left\n",
    "            else:\n",
    "                node = node.right\n",
    "        t.p = parent\n",
    "        if parent == None:\n",
    "            self.root = t\n",
    "        elif t.key < parent.key:\n",
    "            parent.left = t\n",
    "        else:\n",
    "            parent.right = t\n",
    "        return t\n",
    "\n",
    "\n",
    "    def delete(self, node):\n",
    "        if node.left == None:\n",
    "            self.transplant(node, node.right)\n",
    "        elif node.right == None:\n",
    "            self.transplant(node, node.left)\n",
    "        else:\n",
    "            succ = self.minimum(node.right)\n",
    "            if succ.p != node:\n",
    "                self.transplant(succ, succ.right)\n",
    "                succ.right = node.right\n",
    "                succ.right.p = succ\n",
    "            self.transplant(node, succ)\n",
    "            succ.left = node.left\n",
    "            succ.left.p = succ\n",
    "\n",
    "    def transplant(self, node, newnode):\n",
    "        if node.p == None:\n",
    "            self.root = newnode\n",
    "        elif node == node.p.left:\n",
    "            node.p.left = newnode\n",
    "        else:\n",
    "            node.p.right = newnode\n",
    "        if newnode != None:\n",
    "            newnode.p = node.p"
   ]
  },
  {
   "cell_type": "code",
   "execution_count": 221,
   "metadata": {},
   "outputs": [
    {
     "ename": "NameError",
     "evalue": "name 'node' is not defined",
     "output_type": "error",
     "traceback": [
      "\u001b[0;31m---------------------------------------------------------------------------\u001b[0m",
      "\u001b[0;31mNameError\u001b[0m                                 Traceback (most recent call last)",
      "\u001b[0;32m<ipython-input-221-940bbd965ddf>\u001b[0m in \u001b[0;36m<module>\u001b[0;34m()\u001b[0m\n\u001b[1;32m      6\u001b[0m \u001b[0mroot\u001b[0m\u001b[0;34m.\u001b[0m\u001b[0minsert\u001b[0m\u001b[0;34m(\u001b[0m\u001b[0;36m30\u001b[0m\u001b[0;34m)\u001b[0m\u001b[0;34m\u001b[0m\u001b[0m\n\u001b[1;32m      7\u001b[0m \u001b[0mroot\u001b[0m\u001b[0;34m.\u001b[0m\u001b[0minsert\u001b[0m\u001b[0;34m(\u001b[0m\u001b[0;36m12\u001b[0m\u001b[0;34m)\u001b[0m\u001b[0;34m\u001b[0m\u001b[0m\n\u001b[0;32m----> 8\u001b[0;31m \u001b[0mroot\u001b[0m\u001b[0;34m.\u001b[0m\u001b[0minorder\u001b[0m\u001b[0;34m(\u001b[0m\u001b[0;34m)\u001b[0m\u001b[0;34m\u001b[0m\u001b[0m\n\u001b[0m",
      "\u001b[0;32m<ipython-input-219-37eaf1beb1f7>\u001b[0m in \u001b[0;36minorder\u001b[0;34m(self)\u001b[0m\n\u001b[1;32m     19\u001b[0m             \u001b[0;32mreturn\u001b[0m\u001b[0;34m\u001b[0m\u001b[0m\n\u001b[1;32m     20\u001b[0m         \u001b[0;32melse\u001b[0m\u001b[0;34m:\u001b[0m\u001b[0;34m\u001b[0m\u001b[0m\n\u001b[0;32m---> 21\u001b[0;31m             \u001b[0mself\u001b[0m\u001b[0;34m.\u001b[0m\u001b[0minorder\u001b[0m\u001b[0;34m(\u001b[0m\u001b[0mnode\u001b[0m\u001b[0;34m.\u001b[0m\u001b[0mleft\u001b[0m\u001b[0;34m)\u001b[0m\u001b[0;34m\u001b[0m\u001b[0m\n\u001b[0m\u001b[1;32m     22\u001b[0m             \u001b[0mprint\u001b[0m \u001b[0;34m(\u001b[0m\u001b[0mnode\u001b[0m\u001b[0;34m.\u001b[0m\u001b[0mkey\u001b[0m\u001b[0;34m)\u001b[0m\u001b[0;34m,\u001b[0m\u001b[0;34m\u001b[0m\u001b[0m\n\u001b[1;32m     23\u001b[0m             \u001b[0mself\u001b[0m\u001b[0;34m.\u001b[0m\u001b[0minorder\u001b[0m\u001b[0;34m(\u001b[0m\u001b[0mnode\u001b[0m\u001b[0;34m.\u001b[0m\u001b[0mright\u001b[0m\u001b[0;34m)\u001b[0m\u001b[0;34m\u001b[0m\u001b[0m\n",
      "\u001b[0;31mNameError\u001b[0m: name 'node' is not defined"
     ]
    }
   ],
   "source": [
    "root = BinaryTree()\n",
    "root.insert(10)\n",
    "root.insert(20)\n",
    "root.insert(40)\n",
    "root.insert(50)\n",
    "root.insert(30)\n",
    "root.insert(12)\n",
    "root.inorder()"
   ]
  },
  {
   "cell_type": "code",
   "execution_count": null,
   "metadata": {},
   "outputs": [],
   "source": []
  },
  {
   "cell_type": "code",
   "execution_count": null,
   "metadata": {},
   "outputs": [],
   "source": []
  },
  {
   "cell_type": "code",
   "execution_count": null,
   "metadata": {},
   "outputs": [],
   "source": []
  },
  {
   "cell_type": "code",
   "execution_count": null,
   "metadata": {},
   "outputs": [],
   "source": []
  },
  {
   "cell_type": "code",
   "execution_count": null,
   "metadata": {},
   "outputs": [],
   "source": []
  }
 ],
 "metadata": {
  "kernelspec": {
   "display_name": "Python 3",
   "language": "python",
   "name": "python3"
  },
  "language_info": {
   "codemirror_mode": {
    "name": "ipython",
    "version": 3
   },
   "file_extension": ".py",
   "mimetype": "text/x-python",
   "name": "python",
   "nbconvert_exporter": "python",
   "pygments_lexer": "ipython3",
   "version": "3.6.4"
  }
 },
 "nbformat": 4,
 "nbformat_minor": 2
}
